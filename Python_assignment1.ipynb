{
 "cells": [
  {
   "cell_type": "code",
   "execution_count": null,
   "metadata": {},
   "outputs": [],
   "source": [
    "1. In the below elements which of them are values or an expression? eg:- values can be integer or string and expressions will be mathematical operators.\n",
    "* \n",
    "'hello'\n",
    "-87.8\n",
    "- \n",
    "/ \n",
    "+\n",
    "6 \n",
    "\n",
    "\n",
    "Ans :   All the above"
   ]
  },
  {
   "cell_type": "code",
   "execution_count": null,
   "metadata": {},
   "outputs": [],
   "source": [
    "2. What is the difference between string and variable?\n",
    "\n",
    "String: It one of the datatype which is Combination of diffrent characates or different words.\n",
    "        In python it should define with in single quotes (' ') or double quotes (\" \")\n",
    "\n",
    "Variabe : which is used to store or save some amount of data based on the datatype of the data \n",
    "    "
   ]
  },
  {
   "cell_type": "code",
   "execution_count": null,
   "metadata": {},
   "outputs": [],
   "source": [
    "3. Describe three different data types.\n",
    "\n",
    "integer (int)\n",
    "string   (str)\n",
    "float  (float)"
   ]
  },
  {
   "cell_type": "code",
   "execution_count": null,
   "metadata": {},
   "outputs": [],
   "source": [
    "4. What is an expression made up of? What do all expressions do?\n",
    "\n",
    "Expression : An expression is a construct made up of variables, operators, and method invocations, which are constructed according to the syntax of the language, that evaluates to a single value. ... As you can see from the other expressions, an expression can return other types of values as well, such as boolean or String .\n",
    "\n",
    "All expressions are combinations of values and operators and always evaluate down to a single value\n",
    "\n",
    "Ex :  3 + 5  --- Here we are giving some addition insturuction to the python with help of + mathematical operator.\n",
    "    \n",
    "    "
   ]
  },
  {
   "cell_type": "code",
   "execution_count": null,
   "metadata": {},
   "outputs": [],
   "source": [
    "5. This assignment statements, like spam = 10. What is the difference between an expression and a statement?\n",
    "\n",
    "An expression evaluates to a value. Expression is a combination of variables, operations and values that yields a result value\n",
    "A statement does something. Statements represent an action or command \n",
    "e.g print statements, assignment statements. "
   ]
  },
  {
   "cell_type": "code",
   "execution_count": null,
   "metadata": {},
   "outputs": [],
   "source": [
    "6. After running the following code, what does the variable bacon contain?\n",
    "\n",
    "bacon = 22\n",
    "bacon + 1\n",
    "\n",
    "after this bacon contain value 23"
   ]
  },
  {
   "cell_type": "code",
   "execution_count": null,
   "metadata": {},
   "outputs": [],
   "source": [
    "7. What should the values of the following two terms be?\n",
    "'spam' + 'spamspam'\n",
    "'spam' * 3\n",
    "\n",
    "O/P --- spamspamspam\n",
    "        spamspamspam\n",
    "    \n",
    "Note : Ideally both the values of the above two terms are same .since in above example there is no print statement is used thats why only\n",
    "       one time \"spamspamspam\"  gets printed. But if you use print two times gets printed\n",
    "        \n",
    "Conclussion :  Both terms are correct first one concatination operation\n",
    "                                      second one stirng multiplication \n",
    "        O/P will be same"
   ]
  },
  {
   "cell_type": "code",
   "execution_count": null,
   "metadata": {},
   "outputs": [],
   "source": [
    "\n",
    "8. Why is eggs a valid variable name while 100 is invalid?\n",
    "\n",
    "Rules for Creating Python variables:\n",
    "    \n",
    "A variable name must start with a letter or the underscore character.\n",
    "A variable name cannot start with a number.\n",
    "A variable name can only contain alpha-numeric characters and underscores\n",
    "Variable names are case-sensitive (age, Age and AGE are three different variables)"
   ]
  },
  {
   "cell_type": "code",
   "execution_count": null,
   "metadata": {},
   "outputs": [],
   "source": [
    "9. What three functions can be used to get the integer, floating-point number, or string version of a value?\n",
    "\n",
    "int()   --- To get integet value\n",
    "float() --- To get float_point number value\n",
    "str()  ---- To get string value\n",
    "\n",
    "\n"
   ]
  },
  {
   "cell_type": "code",
   "execution_count": null,
   "metadata": {},
   "outputs": [],
   "source": [
    "10. Why does this expression cause an error? How can you fix it?\n",
    "\n",
    "'I have eaten ' + 99 + ' burritos.'\n",
    "\n",
    "TypeError: can only concatenate str (not \"int\") to str  \n",
    "\n",
    "Because we can not concatinate string with integer for that we need to convert int to str to fix it as follows\n",
    "\n",
    "'I have eaten ' + str(99) + ' burritos.'\n",
    " "
   ]
  },
  {
   "cell_type": "code",
   "execution_count": null,
   "metadata": {},
   "outputs": [],
   "source": [
    "\n"
   ]
  }
 ],
 "metadata": {
  "kernelspec": {
   "display_name": "Python 3",
   "language": "python",
   "name": "python3"
  },
  "language_info": {
   "codemirror_mode": {
    "name": "ipython",
    "version": 3
   },
   "file_extension": ".py",
   "mimetype": "text/x-python",
   "name": "python",
   "nbconvert_exporter": "python",
   "pygments_lexer": "ipython3",
   "version": "3.8.5"
  }
 },
 "nbformat": 4,
 "nbformat_minor": 4
}
